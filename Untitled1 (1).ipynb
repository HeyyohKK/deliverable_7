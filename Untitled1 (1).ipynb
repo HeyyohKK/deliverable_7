{
  "nbformat": 4,
  "nbformat_minor": 0,
  "metadata": {
    "colab": {
      "provenance": []
    },
    "kernelspec": {
      "name": "python3",
      "display_name": "Python 3"
    },
    "language_info": {
      "name": "python"
    }
  },
  "cells": [
    {
      "cell_type": "code",
      "execution_count": 10,
      "metadata": {
        "colab": {
          "base_uri": "https://localhost:8080/"
        },
        "id": "73ORf-bY0opw",
        "outputId": "1d5de73c-87bb-48af-fc3d-3c817d85762d"
      },
      "outputs": [
        {
          "output_type": "stream",
          "name": "stdout",
          "text": [
            "Enter an integer value greater than 0: 3\n",
            "   Even  Odd  Fibonacci\n",
            "0     0    1          0\n",
            "1     2    3          1\n",
            "2     4    5          1\n"
          ]
        }
      ],
      "source": [
        "import pandas as pd\n",
        "\n",
        "# ask user to input an integer value greater than 0\n",
        "n = int(input(\"Enter an integer value greater than 0: \"))\n",
        "\n",
        "# check if user's entry is greater than 0\n",
        "if n > 0:\n",
        "    # create lists for even and odd sequences\n",
        "    even_list = [2*i for i in range(n)]\n",
        "    odd_list = [2*i+1 for i in range(n)]\n",
        "\n",
        "    # create list for Fibonacci sequence\n",
        "    fib_list = []\n",
        "    if n >= 1:\n",
        "        fib_list.append(0)\n",
        "    if n >= 2:\n",
        "        fib_list.append(1)\n",
        "    while len(fib_list) < n:\n",
        "        fib_list.append(fib_list[-1] + fib_list[-2])\n",
        "\n",
        "    # create dataframe with the sequences\n",
        "    df = pd.DataFrame({\"Even\": even_list, \"Odd\": odd_list, \"Fibonacci\": fib_list})\n",
        "\n",
        "    # display the dataframe\n",
        "    print(df)\n",
        "\n",
        "else:\n",
        "    print(\"Invalid input! Please enter an integer value greater than 0.\")\n"
      ]
    }
  ]
}